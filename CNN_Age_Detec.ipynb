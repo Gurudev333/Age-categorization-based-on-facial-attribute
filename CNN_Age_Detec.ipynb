{
 "cells": [
  {
   "cell_type": "code",
   "execution_count": 1,
   "metadata": {},
   "outputs": [],
   "source": [
    "import os"
   ]
  },
  {
   "cell_type": "code",
   "execution_count": 2,
   "metadata": {},
   "outputs": [],
   "source": [
    "import random"
   ]
  },
  {
   "cell_type": "code",
   "execution_count": 3,
   "metadata": {},
   "outputs": [],
   "source": [
    "import pandas as pd"
   ]
  },
  {
   "cell_type": "code",
   "execution_count": 4,
   "metadata": {},
   "outputs": [],
   "source": [
    "from scipy.misc import imread"
   ]
  },
  {
   "cell_type": "code",
   "execution_count": 5,
   "metadata": {},
   "outputs": [],
   "source": [
    "from scipy.misc import imresize"
   ]
  },
  {
   "cell_type": "code",
   "execution_count": 6,
   "metadata": {},
   "outputs": [],
   "source": [
    "import numpy as np"
   ]
  },
  {
   "cell_type": "code",
   "execution_count": 7,
   "metadata": {},
   "outputs": [
    {
     "name": "stderr",
     "output_type": "stream",
     "text": [
      "C:\\Users\\Gurudeo\\Anaconda2\\lib\\site-packages\\h5py\\__init__.py:36: FutureWarning: Conversion of the second argument of issubdtype from `float` to `np.floating` is deprecated. In future, it will be treated as `np.float64 == np.dtype(float).type`.\n",
      "  from ._conv import register_converters as _register_converters\n",
      "Using TensorFlow backend.\n"
     ]
    }
   ],
   "source": [
    "import keras"
   ]
  },
  {
   "cell_type": "code",
   "execution_count": 8,
   "metadata": {},
   "outputs": [],
   "source": [
    "from sklearn.preprocessing import LabelEncoder"
   ]
  },
  {
   "cell_type": "code",
   "execution_count": 9,
   "metadata": {},
   "outputs": [],
   "source": [
    "from keras.models import Sequential\n"
   ]
  },
  {
   "cell_type": "code",
   "execution_count": 10,
   "metadata": {},
   "outputs": [],
   "source": [
    "from keras.layers import Dense, Flatten, InputLayer"
   ]
  },
  {
   "cell_type": "code",
   "execution_count": 11,
   "metadata": {},
   "outputs": [],
   "source": [
    "import matplotlib.pyplot as plt"
   ]
  },
  {
   "cell_type": "code",
   "execution_count": 12,
   "metadata": {},
   "outputs": [],
   "source": [
    "from sklearn.model_selection import train_test_split"
   ]
  },
  {
   "cell_type": "code",
   "execution_count": 13,
   "metadata": {},
   "outputs": [],
   "source": [
    "from sklearn.metrics import accuracy_score"
   ]
  },
  {
   "cell_type": "code",
   "execution_count": 14,
   "metadata": {},
   "outputs": [],
   "source": [
    "from keras.layers import Conv2D "
   ]
  },
  {
   "cell_type": "code",
   "execution_count": 15,
   "metadata": {},
   "outputs": [],
   "source": [
    "from keras.layers import MaxPooling2D"
   ]
  },
  {
   "cell_type": "code",
   "execution_count": 16,
   "metadata": {},
   "outputs": [],
   "source": [
    "root_dir=os.path.abspath('.')"
   ]
  },
  {
   "cell_type": "code",
   "execution_count": 17,
   "metadata": {},
   "outputs": [],
   "source": [
    "data_dir='C:/Users/Gurudeo/Desktop/Personal/Age Detection/'"
   ]
  },
  {
   "cell_type": "code",
   "execution_count": 18,
   "metadata": {},
   "outputs": [],
   "source": [
    "data=pd.read_csv(os.path.join(data_dir, 'data.csv'))\n"
   ]
  },
  {
   "cell_type": "code",
   "execution_count": 19,
   "metadata": {},
   "outputs": [],
   "source": [
    "msk = np.random.rand(len(data)) < 0.8"
   ]
  },
  {
   "cell_type": "code",
   "execution_count": 20,
   "metadata": {},
   "outputs": [],
   "source": [
    "train = data[msk]\n",
    "test = data[~msk]"
   ]
  },
  {
   "cell_type": "code",
   "execution_count": null,
   "metadata": {},
   "outputs": [],
   "source": []
  },
  {
   "cell_type": "code",
   "execution_count": null,
   "metadata": {},
   "outputs": [],
   "source": []
  },
  {
   "cell_type": "code",
   "execution_count": 21,
   "metadata": {},
   "outputs": [
    {
     "name": "stderr",
     "output_type": "stream",
     "text": [
      "C:\\Users\\Gurudeo\\Anaconda2\\lib\\site-packages\\ipykernel_launcher.py:4: DeprecationWarning: `imread` is deprecated!\n",
      "`imread` is deprecated in SciPy 1.0.0, and will be removed in 1.2.0.\n",
      "Use ``imageio.imread`` instead.\n",
      "  after removing the cwd from sys.path.\n",
      "C:\\Users\\Gurudeo\\Anaconda2\\lib\\site-packages\\ipykernel_launcher.py:5: DeprecationWarning: `imresize` is deprecated!\n",
      "`imresize` is deprecated in SciPy 1.0.0, and will be removed in 1.2.0.\n",
      "Use ``skimage.transform.resize`` instead.\n",
      "  \"\"\"\n"
     ]
    }
   ],
   "source": [
    "images = []\n",
    "for img_name in train.ID:\n",
    "    img_path = os.path.join(data_dir, 'Data', img_name)\n",
    "    img = imread(img_path)\n",
    "    img = imresize(img, (32, 32))\n",
    "    img = img.astype('float32') \n",
    "    images.append(img)"
   ]
  },
  {
   "cell_type": "code",
   "execution_count": 22,
   "metadata": {},
   "outputs": [],
   "source": [
    "train_x=np.array(images)"
   ]
  },
  {
   "cell_type": "code",
   "execution_count": 23,
   "metadata": {},
   "outputs": [],
   "source": [
    "images1=[]"
   ]
  },
  {
   "cell_type": "code",
   "execution_count": 24,
   "metadata": {},
   "outputs": [
    {
     "name": "stderr",
     "output_type": "stream",
     "text": [
      "C:\\Users\\Gurudeo\\Anaconda2\\lib\\site-packages\\ipykernel_launcher.py:3: DeprecationWarning: `imread` is deprecated!\n",
      "`imread` is deprecated in SciPy 1.0.0, and will be removed in 1.2.0.\n",
      "Use ``imageio.imread`` instead.\n",
      "  This is separate from the ipykernel package so we can avoid doing imports until\n",
      "C:\\Users\\Gurudeo\\Anaconda2\\lib\\site-packages\\ipykernel_launcher.py:4: DeprecationWarning: `imresize` is deprecated!\n",
      "`imresize` is deprecated in SciPy 1.0.0, and will be removed in 1.2.0.\n",
      "Use ``skimage.transform.resize`` instead.\n",
      "  after removing the cwd from sys.path.\n"
     ]
    }
   ],
   "source": [
    "for img_name in test.ID:\n",
    "    img_path = os.path.join(data_dir, 'Data', img_name)\n",
    "    img = imread(img_path)\n",
    "    img = imresize(img, (32, 32))\n",
    "    img = img.astype('float32')\n",
    "    images1.append(img)"
   ]
  },
  {
   "cell_type": "code",
   "execution_count": 25,
   "metadata": {},
   "outputs": [],
   "source": [
    "test_x=np.array(images1)"
   ]
  },
  {
   "cell_type": "code",
   "execution_count": 26,
   "metadata": {},
   "outputs": [],
   "source": [
    "lb = LabelEncoder()\n",
    "train_y = lb.fit_transform(train.Class)\n",
    "train_y = keras.utils.np_utils.to_categorical(train_y)"
   ]
  },
  {
   "cell_type": "code",
   "execution_count": 27,
   "metadata": {},
   "outputs": [],
   "source": [
    "lb = LabelEncoder()\n",
    "test_y = lb.fit_transform(test.Class)\n",
    "test_y = keras.utils.np_utils.to_categorical(test_y)"
   ]
  },
  {
   "cell_type": "code",
   "execution_count": 28,
   "metadata": {},
   "outputs": [],
   "source": [
    "train_y=np.array(train_y)"
   ]
  },
  {
   "cell_type": "code",
   "execution_count": 29,
   "metadata": {},
   "outputs": [],
   "source": [
    "test_y=np.array(test_y)"
   ]
  },
  {
   "cell_type": "code",
   "execution_count": 30,
   "metadata": {},
   "outputs": [],
   "source": [
    "filters=50\n",
    "filtersize=(5,5)\n",
    "epochs =5\n",
    "batchsize=128\n",
    "input_shape=(32,32,3)"
   ]
  },
  {
   "cell_type": "code",
   "execution_count": 31,
   "metadata": {},
   "outputs": [],
   "source": [
    "model3 = Sequential()\n",
    "model3.add(keras.layers.InputLayer(input_shape=input_shape))"
   ]
  },
  {
   "cell_type": "code",
   "execution_count": 32,
   "metadata": {},
   "outputs": [],
   "source": [
    "model3.add(keras.layers.convolutional.Conv2D(filters, filtersize, strides=(1, 1), padding='valid', data_format=\"channels_last\", activation='sigmoid'))"
   ]
  },
  {
   "cell_type": "code",
   "execution_count": 33,
   "metadata": {},
   "outputs": [],
   "source": [
    "model3.add(keras.layers.MaxPooling2D(pool_size=(2, 2)))#14"
   ]
  },
  {
   "cell_type": "code",
   "execution_count": 34,
   "metadata": {},
   "outputs": [],
   "source": [
    "model3.add(keras.layers.convolutional.Conv2D(100, (5, 5), activation='sigmoid'))#10"
   ]
  },
  {
   "cell_type": "code",
   "execution_count": 35,
   "metadata": {},
   "outputs": [],
   "source": [
    "model3.add(keras.layers.MaxPooling2D(pool_size=(2, 2)))#5"
   ]
  },
  {
   "cell_type": "code",
   "execution_count": 36,
   "metadata": {},
   "outputs": [],
   "source": [
    "model3.add(Conv2D(100, (5, 5), activation='sigmoid'))#1"
   ]
  },
  {
   "cell_type": "code",
   "execution_count": 37,
   "metadata": {},
   "outputs": [],
   "source": [
    "model3.add(Flatten())"
   ]
  },
  {
   "cell_type": "code",
   "execution_count": 38,
   "metadata": {},
   "outputs": [],
   "source": [
    "model3.add(Dense(units=3,input_dim=100, activation='softmax'))"
   ]
  },
  {
   "cell_type": "code",
   "execution_count": 39,
   "metadata": {},
   "outputs": [],
   "source": [
    "model3.compile(loss='categorical_crossentropy', optimizer='adam', metrics=['accuracy'])"
   ]
  },
  {
   "cell_type": "code",
   "execution_count": 40,
   "metadata": {},
   "outputs": [
    {
     "name": "stdout",
     "output_type": "stream",
     "text": [
      "_________________________________________________________________\n",
      "Layer (type)                 Output Shape              Param #   \n",
      "=================================================================\n",
      "input_1 (InputLayer)         (None, 32, 32, 3)         0         \n",
      "_________________________________________________________________\n",
      "conv2d_1 (Conv2D)            (None, 28, 28, 50)        3800      \n",
      "_________________________________________________________________\n",
      "max_pooling2d_1 (MaxPooling2 (None, 14, 14, 50)        0         \n",
      "_________________________________________________________________\n",
      "conv2d_2 (Conv2D)            (None, 10, 10, 100)       125100    \n",
      "_________________________________________________________________\n",
      "max_pooling2d_2 (MaxPooling2 (None, 5, 5, 100)         0         \n",
      "_________________________________________________________________\n",
      "conv2d_3 (Conv2D)            (None, 1, 1, 100)         250100    \n",
      "_________________________________________________________________\n",
      "flatten_1 (Flatten)          (None, 100)               0         \n",
      "_________________________________________________________________\n",
      "dense_1 (Dense)              (None, 3)                 303       \n",
      "=================================================================\n",
      "Total params: 379,303\n",
      "Trainable params: 379,303\n",
      "Non-trainable params: 0\n",
      "_________________________________________________________________\n"
     ]
    }
   ],
   "source": [
    "model3.summary()"
   ]
  },
  {
   "cell_type": "code",
   "execution_count": 46,
   "metadata": {},
   "outputs": [
    {
     "name": "stdout",
     "output_type": "stream",
     "text": [
      "Train on 13492 samples, validate on 2382 samples\n",
      "Epoch 1/40\n",
      "13492/13492 [==============================] - 90s 7ms/step - loss: 0.9653 - acc: 0.5394 - val_loss: 0.8796 - val_acc: 0.5785\n",
      "Epoch 2/40\n",
      "13492/13492 [==============================] - 88s 7ms/step - loss: 0.8656 - acc: 0.5958 - val_loss: 0.8645 - val_acc: 0.5974\n",
      "Epoch 3/40\n",
      "13492/13492 [==============================] - 88s 7ms/step - loss: 0.8381 - acc: 0.6169 - val_loss: 0.8164 - val_acc: 0.6343\n",
      "Epoch 4/40\n",
      "13492/13492 [==============================] - 96s 7ms/step - loss: 0.8136 - acc: 0.6404 - val_loss: 0.7804 - val_acc: 0.6604\n",
      "Epoch 5/40\n",
      "13492/13492 [==============================] - 93s 7ms/step - loss: 0.7995 - acc: 0.6462 - val_loss: 0.7900 - val_acc: 0.6507\n",
      "Epoch 6/40\n",
      "13492/13492 [==============================] - 90s 7ms/step - loss: 0.7866 - acc: 0.6530 - val_loss: 0.7556 - val_acc: 0.6612\n",
      "Epoch 7/40\n",
      "13492/13492 [==============================] - 99s 7ms/step - loss: 0.7732 - acc: 0.6551 - val_loss: 0.7742 - val_acc: 0.6738\n",
      "Epoch 8/40\n",
      "13492/13492 [==============================] - 103s 8ms/step - loss: 0.7688 - acc: 0.6571 - val_loss: 0.7567 - val_acc: 0.6633\n",
      "Epoch 9/40\n",
      "13492/13492 [==============================] - 105s 8ms/step - loss: 0.7614 - acc: 0.6622 - val_loss: 0.7883 - val_acc: 0.6524\n",
      "Epoch 10/40\n",
      "13492/13492 [==============================] - 94s 7ms/step - loss: 0.7658 - acc: 0.6564 - val_loss: 0.7372 - val_acc: 0.6738\n",
      "Epoch 11/40\n",
      "13492/13492 [==============================] - 102s 8ms/step - loss: 0.7517 - acc: 0.6710 - val_loss: 0.7735 - val_acc: 0.6537\n",
      "Epoch 12/40\n",
      "13492/13492 [==============================] - 110s 8ms/step - loss: 0.7588 - acc: 0.6623 - val_loss: 0.7249 - val_acc: 0.6851\n",
      "Epoch 13/40\n",
      "13492/13492 [==============================] - 94s 7ms/step - loss: 0.7393 - acc: 0.6717 - val_loss: 0.7119 - val_acc: 0.6898\n",
      "Epoch 14/40\n",
      "13492/13492 [==============================] - 99s 7ms/step - loss: 0.7270 - acc: 0.6770 - val_loss: 0.7145 - val_acc: 0.6805\n",
      "Epoch 15/40\n",
      "13492/13492 [==============================] - 100s 7ms/step - loss: 0.7277 - acc: 0.6778 - val_loss: 0.7565 - val_acc: 0.6679\n",
      "Epoch 16/40\n",
      "13492/13492 [==============================] - 95s 7ms/step - loss: 0.7147 - acc: 0.6823 - val_loss: 0.7108 - val_acc: 0.6885\n",
      "Epoch 17/40\n",
      "13492/13492 [==============================] - 95s 7ms/step - loss: 0.7154 - acc: 0.6818 - val_loss: 0.7195 - val_acc: 0.6864\n",
      "Epoch 18/40\n",
      "13492/13492 [==============================] - 101s 8ms/step - loss: 0.6989 - acc: 0.6940 - val_loss: 0.7076 - val_acc: 0.6906\n",
      "Epoch 19/40\n",
      "13492/13492 [==============================] - 95s 7ms/step - loss: 0.6879 - acc: 0.6990 - val_loss: 0.7085 - val_acc: 0.6860\n",
      "Epoch 20/40\n",
      "13492/13492 [==============================] - 111s 8ms/step - loss: 0.6890 - acc: 0.6967 - val_loss: 0.6820 - val_acc: 0.7015\n",
      "Epoch 21/40\n",
      "13492/13492 [==============================] - 87s 6ms/step - loss: 0.6715 - acc: 0.7058 - val_loss: 0.7086 - val_acc: 0.6826\n",
      "Epoch 22/40\n",
      "13492/13492 [==============================] - 106s 8ms/step - loss: 0.6725 - acc: 0.7071 - val_loss: 0.6777 - val_acc: 0.7024\n",
      "Epoch 23/40\n",
      "13492/13492 [==============================] - 92s 7ms/step - loss: 0.6599 - acc: 0.7110 - val_loss: 0.6763 - val_acc: 0.7074\n",
      "Epoch 24/40\n",
      "13492/13492 [==============================] - 92s 7ms/step - loss: 0.6576 - acc: 0.7114 - val_loss: 0.6745 - val_acc: 0.7070\n",
      "Epoch 25/40\n",
      "13492/13492 [==============================] - 95s 7ms/step - loss: 0.6491 - acc: 0.7166 - val_loss: 0.6744 - val_acc: 0.7078\n",
      "Epoch 26/40\n",
      "13492/13492 [==============================] - 91s 7ms/step - loss: 0.6475 - acc: 0.7164 - val_loss: 0.7083 - val_acc: 0.6889\n",
      "Epoch 27/40\n",
      "13492/13492 [==============================] - 93s 7ms/step - loss: 0.6291 - acc: 0.7275 - val_loss: 0.6911 - val_acc: 0.6956\n",
      "Epoch 28/40\n",
      "13492/13492 [==============================] - 104s 8ms/step - loss: 0.6259 - acc: 0.7282 - val_loss: 0.6864 - val_acc: 0.6893\n",
      "Epoch 29/40\n",
      "13492/13492 [==============================] - 97s 7ms/step - loss: 0.6109 - acc: 0.7369 - val_loss: 0.6641 - val_acc: 0.7175\n",
      "Epoch 30/40\n",
      "13492/13492 [==============================] - 113s 8ms/step - loss: 0.6067 - acc: 0.7394 - val_loss: 0.6592 - val_acc: 0.7078\n",
      "Epoch 31/40\n",
      "13492/13492 [==============================] - 117s 9ms/step - loss: 0.5863 - acc: 0.7463 - val_loss: 0.6550 - val_acc: 0.7061\n",
      "Epoch 32/40\n",
      "13492/13492 [==============================] - 113s 8ms/step - loss: 0.5786 - acc: 0.7470 - val_loss: 0.6373 - val_acc: 0.7191\n",
      "Epoch 33/40\n",
      "13492/13492 [==============================] - 97s 7ms/step - loss: 0.5661 - acc: 0.7573 - val_loss: 0.6400 - val_acc: 0.7296\n",
      "Epoch 34/40\n",
      "13492/13492 [==============================] - 90s 7ms/step - loss: 0.5669 - acc: 0.7559 - val_loss: 0.6598 - val_acc: 0.6973\n",
      "Epoch 35/40\n",
      "13492/13492 [==============================] - 86s 6ms/step - loss: 0.5474 - acc: 0.7614 - val_loss: 0.6367 - val_acc: 0.7128\n",
      "Epoch 36/40\n",
      "13492/13492 [==============================] - 105s 8ms/step - loss: 0.5401 - acc: 0.7673 - val_loss: 0.6656 - val_acc: 0.7137\n",
      "Epoch 37/40\n",
      "13492/13492 [==============================] - 102s 8ms/step - loss: 0.5328 - acc: 0.7725 - val_loss: 0.6484 - val_acc: 0.7275\n",
      "Epoch 38/40\n",
      "13492/13492 [==============================] - 95s 7ms/step - loss: 0.5218 - acc: 0.7805 - val_loss: 0.6375 - val_acc: 0.7263\n",
      "Epoch 39/40\n",
      "13492/13492 [==============================] - 93s 7ms/step - loss: 0.5045 - acc: 0.7859 - val_loss: 0.6374 - val_acc: 0.7271\n",
      "Epoch 40/40\n",
      "13492/13492 [==============================] - 93s 7ms/step - loss: 0.4874 - acc: 0.7962 - val_loss: 0.6497 - val_acc: 0.7254\n"
     ]
    }
   ],
   "source": [
    "gmodel=model3.fit(train_x, train_y,validation_split=0.15, batch_size=64,epochs=40,verbose=1)"
   ]
  },
  {
   "cell_type": "code",
   "execution_count": 47,
   "metadata": {},
   "outputs": [],
   "source": [
    "predicted=model3.predict_classes(test_x)"
   ]
  },
  {
   "cell_type": "code",
   "execution_count": 52,
   "metadata": {},
   "outputs": [
    {
     "name": "stderr",
     "output_type": "stream",
     "text": [
      "C:\\Users\\Gurudeo\\Anaconda2\\lib\\site-packages\\sklearn\\preprocessing\\label.py:151: DeprecationWarning: The truth value of an empty array is ambiguous. Returning False, but in future this will result in an error. Use `array.size > 0` to check that an array is not empty.\n",
      "  if diff:\n"
     ]
    }
   ],
   "source": [
    "pred = lb.inverse_transform(predicted)  \n"
   ]
  },
  {
   "cell_type": "code",
   "execution_count": 49,
   "metadata": {},
   "outputs": [
    {
     "data": {
      "image/png": "[encoded data removed]",
      "text/plain": [
       "<matplotlib.figure.Figure at 0x76606b0be0>"
      ]
     },
     "metadata": {},
     "output_type": "display_data"
    }
   ],
   "source": [
    "plt.plot(gmodel.history['acc'])\n",
    "plt.plot(gmodel.history['val_acc'])\n",
    "plt.title('model accuracy')\n",
    "plt.ylabel('accuracy')\n",
    "plt.xlabel('epoch')\n",
    "plt.legend(['train', 'test'], loc='upper left')\n",
    "plt.show()"
   ]
  },
  {
   "cell_type": "code",
   "execution_count": 50,
   "metadata": {},
   "outputs": [
    {
     "data": {
      "image/png": "[encoded data removed]",
      "text/plain": [
       "<matplotlib.figure.Figure at 0x7660642358>"
      ]
     },
     "metadata": {},
     "output_type": "display_data"
    }
   ],
   "source": [
    "plt.plot(gmodel.history['loss'])\n",
    "plt.plot(gmodel.history['val_loss'])\n",
    "plt.title('model loss')\n",
    "plt.ylabel('loss')\n",
    "plt.xlabel('epoch')\n",
    "plt.legend(['train', 'test'], loc='upper left')\n",
    "plt.show()"
   ]
  },
  {
   "cell_type": "code",
   "execution_count": 53,
   "metadata": {},
   "outputs": [
    {
     "data": {
      "text/plain": [
       "0.8068452380952381"
      ]
     },
     "execution_count": 53,
     "metadata": {},
     "output_type": "execute_result"
    }
   ],
   "source": [
    "accuracy_score(test.Class,pred)"
   ]
  },
  {
   "cell_type": "code",
   "execution_count": 54,
   "metadata": {},
   "outputs": [],
   "source": [
    "from keras.models import model_from_json\n",
    "model_json = model3.to_json()\n",
    "with open(\"model3.json\", \"w\") as json_file:\n",
    "    json_file.write(model_json)\n"
   ]
  },
  {
   "cell_type": "code",
   "execution_count": null,
   "metadata": {},
   "outputs": [],
   "source": []
  },
  {
   "cell_type": "code",
   "execution_count": null,
   "metadata": {},
   "outputs": [],
   "source": []
  }
 ],
 "metadata": {
  "kernelspec": {
   "display_name": "Python 3",
   "language": "python",
   "name": "python3"
  },
  "language_info": {
   "codemirror_mode": {
    "name": "ipython",
    "version": 3
   },
   "file_extension": ".py",
   "mimetype": "text/x-python",
   "name": "python",
   "nbconvert_exporter": "python",
   "pygments_lexer": "ipython3",
   "version": "3.6.4"
  }
 },
 "nbformat": 4,
 "nbformat_minor": 2
}
