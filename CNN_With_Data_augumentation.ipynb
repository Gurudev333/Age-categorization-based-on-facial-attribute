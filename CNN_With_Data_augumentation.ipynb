{
 "cells": [
  {
   "cell_type": "code",
   "execution_count": 1,
   "metadata": {},
   "outputs": [],
   "source": [
    "import pandas as pd"
   ]
  },
  {
   "cell_type": "code",
   "execution_count": 2,
   "metadata": {},
   "outputs": [],
   "source": [
    "import os"
   ]
  },
  {
   "cell_type": "code",
   "execution_count": 3,
   "metadata": {},
   "outputs": [],
   "source": [
    "import random"
   ]
  },
  {
   "cell_type": "code",
   "execution_count": 4,
   "metadata": {},
   "outputs": [],
   "source": [
    "from scipy.misc import imread"
   ]
  },
  {
   "cell_type": "code",
   "execution_count": 5,
   "metadata": {},
   "outputs": [],
   "source": [
    "from scipy.misc import imresize"
   ]
  },
  {
   "cell_type": "code",
   "execution_count": 6,
   "metadata": {},
   "outputs": [],
   "source": [
    "import numpy as np"
   ]
  },
  {
   "cell_type": "code",
   "execution_count": 7,
   "metadata": {},
   "outputs": [
    {
     "name": "stderr",
     "output_type": "stream",
     "text": [
      "C:\\Users\\Gurudeo\\Anaconda2\\lib\\site-packages\\h5py\\__init__.py:36: FutureWarning: Conversion of the second argument of issubdtype from `float` to `np.floating` is deprecated. In future, it will be treated as `np.float64 == np.dtype(float).type`.\n",
      "  from ._conv import register_converters as _register_converters\n",
      "Using TensorFlow backend.\n"
     ]
    }
   ],
   "source": [
    "import keras"
   ]
  },
  {
   "cell_type": "code",
   "execution_count": 8,
   "metadata": {},
   "outputs": [],
   "source": [
    "from sklearn.preprocessing import LabelEncoder"
   ]
  },
  {
   "cell_type": "code",
   "execution_count": 9,
   "metadata": {},
   "outputs": [],
   "source": [
    "from keras.models import Sequential\n"
   ]
  },
  {
   "cell_type": "code",
   "execution_count": 10,
   "metadata": {},
   "outputs": [],
   "source": [
    "from keras.layers import Dense, Flatten, InputLayer,BatchNormalization"
   ]
  },
  {
   "cell_type": "code",
   "execution_count": 11,
   "metadata": {},
   "outputs": [],
   "source": [
    "import matplotlib.pyplot as plt"
   ]
  },
  {
   "cell_type": "code",
   "execution_count": 12,
   "metadata": {},
   "outputs": [],
   "source": [
    "from sklearn.model_selection import train_test_split"
   ]
  },
  {
   "cell_type": "code",
   "execution_count": 13,
   "metadata": {},
   "outputs": [],
   "source": [
    "from sklearn.metrics import accuracy_score"
   ]
  },
  {
   "cell_type": "code",
   "execution_count": 14,
   "metadata": {},
   "outputs": [],
   "source": [
    "from keras.layers import Conv2D "
   ]
  },
  {
   "cell_type": "code",
   "execution_count": 15,
   "metadata": {},
   "outputs": [],
   "source": [
    "from keras.layers import MaxPooling2D"
   ]
  },
  {
   "cell_type": "code",
   "execution_count": 16,
   "metadata": {},
   "outputs": [],
   "source": [
    "from keras.layers import Dropout"
   ]
  },
  {
   "cell_type": "code",
   "execution_count": 17,
   "metadata": {},
   "outputs": [],
   "source": [
    "from keras import backend as K\n",
    "K.set_image_dim_ordering('th')"
   ]
  },
  {
   "cell_type": "code",
   "execution_count": 18,
   "metadata": {},
   "outputs": [],
   "source": [
    "from keras.preprocessing.image import ImageDataGenerator"
   ]
  },
  {
   "cell_type": "code",
   "execution_count": 19,
   "metadata": {},
   "outputs": [],
   "source": [
    "data_dir='C:/Users/Gurudeo/Desktop/Age/'"
   ]
  },
  {
   "cell_type": "code",
   "execution_count": 20,
   "metadata": {},
   "outputs": [],
   "source": [
    "data=pd.read_csv(os.path.join(data_dir, 'data.csv'))"
   ]
  },
  {
   "cell_type": "code",
   "execution_count": 21,
   "metadata": {},
   "outputs": [],
   "source": [
    "msk = np.random.rand(len(data)) < 0.85"
   ]
  },
  {
   "cell_type": "code",
   "execution_count": 22,
   "metadata": {},
   "outputs": [],
   "source": [
    "train = data[msk]\n",
    "test = data[~msk]"
   ]
  },
  {
   "cell_type": "code",
   "execution_count": 23,
   "metadata": {},
   "outputs": [],
   "source": [
    "images=[]"
   ]
  },
  {
   "cell_type": "code",
   "execution_count": 24,
   "metadata": {},
   "outputs": [
    {
     "name": "stderr",
     "output_type": "stream",
     "text": [
      "C:\\Users\\Gurudeo\\Anaconda2\\lib\\site-packages\\ipykernel_launcher.py:3: DeprecationWarning: `imread` is deprecated!\n",
      "`imread` is deprecated in SciPy 1.0.0, and will be removed in 1.2.0.\n",
      "Use ``imageio.imread`` instead.\n",
      "  This is separate from the ipykernel package so we can avoid doing imports until\n",
      "C:\\Users\\Gurudeo\\Anaconda2\\lib\\site-packages\\ipykernel_launcher.py:4: DeprecationWarning: `imresize` is deprecated!\n",
      "`imresize` is deprecated in SciPy 1.0.0, and will be removed in 1.2.0.\n",
      "Use ``skimage.transform.resize`` instead.\n",
      "  after removing the cwd from sys.path.\n"
     ]
    }
   ],
   "source": [
    "for img_name in train.ID:\n",
    "    img_path = os.path.join(data_dir, 'Data', img_name)\n",
    "    img = imread(img_path)\n",
    "    img = imresize(img, (32, 32))\n",
    "    img = img.astype('float32') \n",
    "    images.append(img)"
   ]
  },
  {
   "cell_type": "code",
   "execution_count": 25,
   "metadata": {},
   "outputs": [],
   "source": [
    "train_x=np.array(images)"
   ]
  },
  {
   "cell_type": "code",
   "execution_count": 26,
   "metadata": {},
   "outputs": [
    {
     "data": {
      "text/plain": [
       "(16902, 32, 32, 3)"
      ]
     },
     "execution_count": 26,
     "metadata": {},
     "output_type": "execute_result"
    }
   ],
   "source": [
    "train_x.shape"
   ]
  },
  {
   "cell_type": "code",
   "execution_count": 27,
   "metadata": {},
   "outputs": [],
   "source": [
    "lb = LabelEncoder()\n",
    "train_y = lb.fit_transform(train.Class)\n",
    "train_y = keras.utils.np_utils.to_categorical(train_y)"
   ]
  },
  {
   "cell_type": "code",
   "execution_count": 28,
   "metadata": {},
   "outputs": [],
   "source": [
    "train_y=np.array(train_y)"
   ]
  },
  {
   "cell_type": "code",
   "execution_count": 29,
   "metadata": {},
   "outputs": [
    {
     "name": "stderr",
     "output_type": "stream",
     "text": [
      "C:\\Users\\Gurudeo\\Anaconda2\\lib\\site-packages\\ipykernel_launcher.py:4: DeprecationWarning: `imread` is deprecated!\n",
      "`imread` is deprecated in SciPy 1.0.0, and will be removed in 1.2.0.\n",
      "Use ``imageio.imread`` instead.\n",
      "  after removing the cwd from sys.path.\n",
      "C:\\Users\\Gurudeo\\Anaconda2\\lib\\site-packages\\ipykernel_launcher.py:5: DeprecationWarning: `imresize` is deprecated!\n",
      "`imresize` is deprecated in SciPy 1.0.0, and will be removed in 1.2.0.\n",
      "Use ``skimage.transform.resize`` instead.\n",
      "  \"\"\"\n"
     ]
    }
   ],
   "source": [
    "images1=[]\n",
    "for img_name in test.ID:\n",
    "    img_path = os.path.join(data_dir, 'Data', img_name)\n",
    "    img = imread(img_path)\n",
    "    img = imresize(img, (32, 32))\n",
    "    img = img.astype('float32') \n",
    "    images1.append(img)"
   ]
  },
  {
   "cell_type": "code",
   "execution_count": 30,
   "metadata": {},
   "outputs": [],
   "source": [
    "test_x=np.array(images1)"
   ]
  },
  {
   "cell_type": "code",
   "execution_count": 31,
   "metadata": {},
   "outputs": [],
   "source": [
    "lb = LabelEncoder()\n",
    "test_y = lb.fit_transform(test.Class)\n",
    "test_y = keras.utils.np_utils.to_categorical(test_y)"
   ]
  },
  {
   "cell_type": "code",
   "execution_count": 32,
   "metadata": {},
   "outputs": [],
   "source": [
    "test_y=np.array(test_y)"
   ]
  },
  {
   "cell_type": "code",
   "execution_count": 33,
   "metadata": {},
   "outputs": [],
   "source": [
    "image_gen = ImageDataGenerator(rotation_range = 10, width_shift_range = 0.15, shear_range = 0.25,\n",
    "                height_shift_range = 0.15, zoom_range = 0.2, horizontal_flip = True)\n"
   ]
  },
  {
   "cell_type": "code",
   "execution_count": 34,
   "metadata": {},
   "outputs": [
    {
     "name": "stderr",
     "output_type": "stream",
     "text": [
      "C:\\Users\\Gurudeo\\Anaconda2\\lib\\site-packages\\keras\\preprocessing\\image.py:748: UserWarning: Expected input to be images (as Numpy array) following the data format convention \"channels_first\" (channels on axis 1), i.e. expected either 1, 3 or 4 channels on axis 1. However, it was passed an array with shape (16902, 32, 32, 3) (32 channels).\n",
      "  ' (' + str(x.shape[self.channel_axis]) + ' channels).')\n"
     ]
    }
   ],
   "source": [
    "image_gen.fit(train_x, augment=True)"
   ]
  },
  {
   "cell_type": "code",
   "execution_count": 35,
   "metadata": {},
   "outputs": [
    {
     "name": "stderr",
     "output_type": "stream",
     "text": [
      "C:\\Users\\Gurudeo\\Anaconda2\\lib\\site-packages\\keras\\preprocessing\\image.py:748: UserWarning: Expected input to be images (as Numpy array) following the data format convention \"channels_first\" (channels on axis 1), i.e. expected either 1, 3 or 4 channels on axis 1. However, it was passed an array with shape (3004, 32, 32, 3) (32 channels).\n",
      "  ' (' + str(x.shape[self.channel_axis]) + ' channels).')\n"
     ]
    }
   ],
   "source": [
    "image_gen.fit(test_x, augment=True)"
   ]
  },
  {
   "cell_type": "code",
   "execution_count": 36,
   "metadata": {},
   "outputs": [],
   "source": [
    "modelx=Sequential()"
   ]
  },
  {
   "cell_type": "code",
   "execution_count": 37,
   "metadata": {},
   "outputs": [],
   "source": [
    "modelx.add(keras.layers.InputLayer(input_shape=(32,32,3)))"
   ]
  },
  {
   "cell_type": "code",
   "execution_count": 38,
   "metadata": {},
   "outputs": [],
   "source": [
    "modelx.add(Conv2D(32,(3,3),activation='relu',input_shape=(32,32,3),strides=(1, 1), padding='valid', data_format=\"channels_last\"))"
   ]
  },
  {
   "cell_type": "code",
   "execution_count": 39,
   "metadata": {},
   "outputs": [],
   "source": [
    "modelx.add(BatchNormalization())"
   ]
  },
  {
   "cell_type": "code",
   "execution_count": 40,
   "metadata": {},
   "outputs": [],
   "source": [
    "modelx.add(Conv2D(32,(3,3),activation='relu'))"
   ]
  },
  {
   "cell_type": "code",
   "execution_count": 41,
   "metadata": {},
   "outputs": [],
   "source": [
    "modelx.add(BatchNormalization())"
   ]
  },
  {
   "cell_type": "code",
   "execution_count": 42,
   "metadata": {},
   "outputs": [],
   "source": [
    "modelx.add(MaxPooling2D())"
   ]
  },
  {
   "cell_type": "code",
   "execution_count": 43,
   "metadata": {},
   "outputs": [],
   "source": [
    "modelx.add(Conv2D(64,(3,3),activation='relu'))"
   ]
  },
  {
   "cell_type": "code",
   "execution_count": 44,
   "metadata": {},
   "outputs": [],
   "source": [
    "modelx.add(BatchNormalization())"
   ]
  },
  {
   "cell_type": "code",
   "execution_count": 45,
   "metadata": {},
   "outputs": [],
   "source": [
    "modelx.add(Conv2D(64,(3,3),activation='relu'))"
   ]
  },
  {
   "cell_type": "code",
   "execution_count": 46,
   "metadata": {},
   "outputs": [],
   "source": [
    "modelx.add(BatchNormalization())"
   ]
  },
  {
   "cell_type": "code",
   "execution_count": 47,
   "metadata": {},
   "outputs": [],
   "source": [
    "modelx.add(MaxPooling2D())"
   ]
  },
  {
   "cell_type": "code",
   "execution_count": 48,
   "metadata": {},
   "outputs": [],
   "source": [
    "modelx.add(Flatten())"
   ]
  },
  {
   "cell_type": "code",
   "execution_count": 49,
   "metadata": {},
   "outputs": [],
   "source": [
    "modelx.add(Dropout(0.20))"
   ]
  },
  {
   "cell_type": "code",
   "execution_count": 50,
   "metadata": {},
   "outputs": [],
   "source": [
    "modelx.add(Dense(512,activation='relu'))"
   ]
  },
  {
   "cell_type": "code",
   "execution_count": 51,
   "metadata": {},
   "outputs": [],
   "source": [
    "modelx.add(Dropout(0.5))"
   ]
  },
  {
   "cell_type": "code",
   "execution_count": 52,
   "metadata": {},
   "outputs": [],
   "source": [
    "modelx.add(Dense(3, activation='softmax'))"
   ]
  },
  {
   "cell_type": "code",
   "execution_count": 53,
   "metadata": {},
   "outputs": [
    {
     "name": "stdout",
     "output_type": "stream",
     "text": [
      "_________________________________________________________________\n",
      "Layer (type)                 Output Shape              Param #   \n",
      "=================================================================\n",
      "input_1 (InputLayer)         (None, 32, 32, 3)         0         \n",
      "_________________________________________________________________\n",
      "conv2d_1 (Conv2D)            (None, 30, 30, 32)        896       \n",
      "_________________________________________________________________\n",
      "batch_normalization_1 (Batch (None, 30, 30, 32)        128       \n",
      "_________________________________________________________________\n",
      "conv2d_2 (Conv2D)            (None, 32, 28, 30)        8672      \n",
      "_________________________________________________________________\n",
      "batch_normalization_2 (Batch (None, 32, 28, 30)        120       \n",
      "_________________________________________________________________\n",
      "max_pooling2d_1 (MaxPooling2 (None, 32, 14, 15)        0         \n",
      "_________________________________________________________________\n",
      "conv2d_3 (Conv2D)            (None, 64, 12, 13)        18496     \n",
      "_________________________________________________________________\n",
      "batch_normalization_3 (Batch (None, 64, 12, 13)        52        \n",
      "_________________________________________________________________\n",
      "conv2d_4 (Conv2D)            (None, 64, 10, 11)        36928     \n",
      "_________________________________________________________________\n",
      "batch_normalization_4 (Batch (None, 64, 10, 11)        44        \n",
      "_________________________________________________________________\n",
      "max_pooling2d_2 (MaxPooling2 (None, 64, 5, 5)          0         \n",
      "_________________________________________________________________\n",
      "flatten_1 (Flatten)          (None, 1600)              0         \n",
      "_________________________________________________________________\n",
      "dropout_1 (Dropout)          (None, 1600)              0         \n",
      "_________________________________________________________________\n",
      "dense_1 (Dense)              (None, 512)               819712    \n",
      "_________________________________________________________________\n",
      "dropout_2 (Dropout)          (None, 512)               0         \n",
      "_________________________________________________________________\n",
      "dense_2 (Dense)              (None, 3)                 1539      \n",
      "=================================================================\n",
      "Total params: 886,587\n",
      "Trainable params: 886,415\n",
      "Non-trainable params: 172\n",
      "_________________________________________________________________\n"
     ]
    }
   ],
   "source": [
    "modelx.summary()"
   ]
  },
  {
   "cell_type": "code",
   "execution_count": 54,
   "metadata": {},
   "outputs": [],
   "source": [
    "modelx.compile(loss=keras.losses.categorical_crossentropy,\n",
    "              optimizer=keras.optimizers.Adadelta(),\n",
    "              metrics=['accuracy'])"
   ]
  },
  {
   "cell_type": "code",
   "execution_count": 55,
   "metadata": {},
   "outputs": [
    {
     "name": "stderr",
     "output_type": "stream",
     "text": [
      "C:\\Users\\Gurudeo\\Anaconda2\\lib\\site-packages\\keras\\preprocessing\\image.py:935: UserWarning: NumpyArrayIterator is set to use the data format convention \"channels_first\" (channels on axis 1), i.e. expected either 1, 3 or 4 channels on axis 1. However, it was passed an array with shape (16902, 32, 32, 3) (32 channels).\n",
      "  ' (' + str(self.x.shape[channels_axis]) + ' channels).')\n",
      "C:\\Users\\Gurudeo\\Anaconda2\\lib\\site-packages\\keras\\preprocessing\\image.py:935: UserWarning: NumpyArrayIterator is set to use the data format convention \"channels_first\" (channels on axis 1), i.e. expected either 1, 3 or 4 channels on axis 1. However, it was passed an array with shape (3004, 32, 32, 3) (32 channels).\n",
      "  ' (' + str(self.x.shape[channels_axis]) + ' channels).')\n"
     ]
    },
    {
     "name": "stdout",
     "output_type": "stream",
     "text": [
      "Epoch 1/25\n",
      "265/264 [==============================] - 511s 2s/step - loss: 1.0713 - acc: 0.5446 - val_loss: 0.8788 - val_acc: 0.5664\n",
      "Epoch 2/25\n",
      "265/264 [==============================] - 505s 2s/step - loss: 0.8504 - acc: 0.6074 - val_loss: 0.8289 - val_acc: 0.6250\n",
      "Epoch 3/25\n",
      "265/264 [==============================] - 505s 2s/step - loss: 0.8064 - acc: 0.6335 - val_loss: 0.7766 - val_acc: 0.6348\n",
      "Epoch 4/25\n",
      "265/264 [==============================] - 507s 2s/step - loss: 0.7828 - acc: 0.6521 - val_loss: 0.7664 - val_acc: 0.6465\n",
      "Epoch 5/25\n",
      "265/264 [==============================] - 506s 2s/step - loss: 0.7508 - acc: 0.6644 - val_loss: 0.7836 - val_acc: 0.6281\n",
      "Epoch 6/25\n",
      "265/264 [==============================] - 505s 2s/step - loss: 0.7319 - acc: 0.6774 - val_loss: 0.7338 - val_acc: 0.6742\n",
      "Epoch 7/25\n",
      "265/264 [==============================] - 503s 2s/step - loss: 0.7077 - acc: 0.6950 - val_loss: 0.7174 - val_acc: 0.6746\n",
      "Epoch 8/25\n",
      "265/264 [==============================] - 503s 2s/step - loss: 0.6937 - acc: 0.6966 - val_loss: 0.6773 - val_acc: 0.7016\n",
      "Epoch 9/25\n",
      "265/264 [==============================] - 590s 2s/step - loss: 0.6671 - acc: 0.7092 - val_loss: 0.7081 - val_acc: 0.6855\n",
      "Epoch 10/25\n",
      "265/264 [==============================] - 592s 2s/step - loss: 0.6528 - acc: 0.7176 - val_loss: 0.7512 - val_acc: 0.6504\n",
      "Epoch 11/25\n",
      "265/264 [==============================] - 586s 2s/step - loss: 0.6366 - acc: 0.7273 - val_loss: 0.6844 - val_acc: 0.7059\n",
      "Epoch 12/25\n",
      "265/264 [==============================] - 597s 2s/step - loss: 0.6157 - acc: 0.7339 - val_loss: 0.6266 - val_acc: 0.7289\n",
      "Epoch 13/25\n",
      "265/264 [==============================] - 568s 2s/step - loss: 0.5984 - acc: 0.7452 - val_loss: 0.6444 - val_acc: 0.7227\n",
      "Epoch 14/25\n",
      "265/264 [==============================] - 520s 2s/step - loss: 0.5838 - acc: 0.7514 - val_loss: 0.6470 - val_acc: 0.7215\n",
      "Epoch 15/25\n",
      "265/264 [==============================] - 1136s 4s/step - loss: 0.5685 - acc: 0.7584 - val_loss: 0.6313 - val_acc: 0.7281\n",
      "Epoch 16/25\n",
      "265/264 [==============================] - 581s 2s/step - loss: 0.5565 - acc: 0.7653 - val_loss: 0.6757 - val_acc: 0.7016\n",
      "Epoch 17/25\n",
      "265/264 [==============================] - 595s 2s/step - loss: 0.5498 - acc: 0.7691 - val_loss: 0.6013 - val_acc: 0.7457\n",
      "Epoch 18/25\n",
      "265/264 [==============================] - 556s 2s/step - loss: 0.5323 - acc: 0.7772 - val_loss: 0.6346 - val_acc: 0.7430\n",
      "Epoch 19/25\n",
      "265/264 [==============================] - 546s 2s/step - loss: 0.5214 - acc: 0.7810 - val_loss: 0.6331 - val_acc: 0.7434\n",
      "Epoch 20/25\n",
      "265/264 [==============================] - 569s 2s/step - loss: 0.5080 - acc: 0.7897 - val_loss: 0.6178 - val_acc: 0.7449\n",
      "Epoch 21/25\n",
      "265/264 [==============================] - 538s 2s/step - loss: 0.4890 - acc: 0.7935 - val_loss: 0.6163 - val_acc: 0.7465\n",
      "Epoch 22/25\n",
      "265/264 [==============================] - 536s 2s/step - loss: 0.4776 - acc: 0.8021 - val_loss: 0.6682 - val_acc: 0.7254\n",
      "Epoch 23/25\n",
      "265/264 [==============================] - 542s 2s/step - loss: 0.4691 - acc: 0.8089 - val_loss: 0.6142 - val_acc: 0.7574\n",
      "Epoch 24/25\n",
      "265/264 [==============================] - 554s 2s/step - loss: 0.4579 - acc: 0.8127 - val_loss: 0.5926 - val_acc: 0.7652\n",
      "Epoch 25/25\n",
      "265/264 [==============================] - 553s 2s/step - loss: 0.4462 - acc: 0.8124 - val_loss: 0.5953 - val_acc: 0.7660\n"
     ]
    }
   ],
   "source": [
    "gmodel=modelx.fit_generator(image_gen.flow(train_x, train_y, batch_size=64),\n",
    "          steps_per_epoch= train_x.shape[0]/64,\n",
    "          epochs=25,\n",
    "         validation_data =image_gen.flow(test_x, test_y, batch_size=64), validation_steps = (train_x.shape[0]*0.15/64))"
   ]
  },
  {
   "cell_type": "code",
   "execution_count": 56,
   "metadata": {},
   "outputs": [
    {
     "data": {
      "image/png": "[encoded data removed]",
      "text/plain": [
       "<matplotlib.figure.Figure at 0x5acc857ac8>"
      ]
     },
     "metadata": {},
     "output_type": "display_data"
    }
   ],
   "source": [
    "plt.plot(gmodel.history['acc'])\n",
    "plt.plot(gmodel.history['val_acc'])\n",
    "plt.title('model accuracy')\n",
    "plt.ylabel('accuracy')\n",
    "plt.xlabel('epoch')\n",
    "plt.legend(['train', 'val'], loc='upper left')\n",
    "plt.show()"
   ]
  },
  {
   "cell_type": "code",
   "execution_count": 57,
   "metadata": {},
   "outputs": [
    {
     "data": {
      "image/png": "[encoded data removed]",
      "text/plain": [
       "<matplotlib.figure.Figure at 0x5acbc6bef0>"
      ]
     },
     "metadata": {},
     "output_type": "display_data"
    }
   ],
   "source": [
    "plt.plot(gmodel.history['loss'])\n",
    "plt.plot(gmodel.history['val_loss'])\n",
    "plt.title('model loss')\n",
    "plt.ylabel('loss')\n",
    "plt.xlabel('epoch')\n",
    "plt.legend(['train', 'test'], loc='upper left')\n",
    "plt.show()"
   ]
  },
  {
   "cell_type": "code",
   "execution_count": null,
   "metadata": {},
   "outputs": [],
   "source": []
  }
 ],
 "metadata": {
  "kernelspec": {
   "display_name": "Python 3",
   "language": "python",
   "name": "python3"
  },
  "language_info": {
   "codemirror_mode": {
    "name": "ipython",
    "version": 3
   },
   "file_extension": ".py",
   "mimetype": "text/x-python",
   "name": "python",
   "nbconvert_exporter": "python",
   "pygments_lexer": "ipython3",
   "version": "3.6.4"
  }
 },
 "nbformat": 4,
 "nbformat_minor": 2
}
